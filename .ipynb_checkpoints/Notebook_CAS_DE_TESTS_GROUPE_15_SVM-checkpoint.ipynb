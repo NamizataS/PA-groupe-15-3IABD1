{
 "cells": [
  {
   "cell_type": "markdown",
   "metadata": {
    "id": "12URBFa0yULK"
   },
   "source": [
    "# Imports"
   ]
  },
  {
   "cell_type": "code",
   "execution_count": 1,
   "metadata": {
    "id": "sXU99qaCyT8S"
   },
   "outputs": [],
   "source": [
    "import matplotlib.pyplot as plt\n",
    "import numpy as np\n",
    "from ctypes import *\n",
    "import os\n",
    "import platform"
   ]
  },
  {
   "cell_type": "code",
   "execution_count": 2,
   "metadata": {},
   "outputs": [],
   "source": [
    "#Function of conversion of list of list to simple list \n",
    "def toList(arr):\n",
    "    return [j for i in arr for j in i]"
   ]
  },
  {
   "cell_type": "code",
   "execution_count": 3,
   "metadata": {},
   "outputs": [],
   "source": [
    "#\n",
    "path_to_shared_library = \"target/release/librust_lib.dylib\"\n",
    "path_to_shared_library_windows = \"target\\\\debug\\\\rust_lib.dll\"\n",
    "\n",
    "if(platform.system()=='Windows'):\n",
    "    my_lib = cdll.LoadLibrary(path_to_shared_library_windows)\n",
    "else : \n",
    "    my_lib = cdll.LoadLibrary(path_to_shared_library)\n"
   ]
  },
  {
   "cell_type": "markdown",
   "metadata": {
    "id": "MlaksdgDxaA6"
   },
   "source": [
    "# Cas de tests, rendu 2"
   ]
  },
  {
   "cell_type": "markdown",
   "metadata": {
    "id": "_qYwTgKqxnkl"
   },
   "source": [
    "## Classification"
   ]
  },
  {
   "cell_type": "markdown",
   "metadata": {
    "id": "-d0zULTsyFhh"
   },
   "source": [
    "### Linear Simple :\n",
    "        SVM : OK\n",
    "        SVM trick   : OK"
   ]
  },
  {
   "cell_type": "code",
   "execution_count": 7,
   "metadata": {
    "id": "EktwRhEMxV2A"
   },
   "outputs": [
    {
     "name": "stdout",
     "output_type": "stream",
     "text": [
      "[ 3.11108110e+231  1.49166815e-154 -8.00000877e-001]\n"
     ]
    },
    {
     "data": {
      "image/png": "[encoded data removed]",
      "text/plain": [
       "<Figure size 432x288 with 1 Axes>"
      ]
     },
     "metadata": {
      "needs_background": "light"
     },
     "output_type": "display_data"
    },
    {
     "data": {
      "text/plain": [
       "<Figure size 432x288 with 0 Axes>"
      ]
     },
     "metadata": {},
     "output_type": "display_data"
    }
   ],
   "source": [
    "#Dataset\n",
    "X= np.array([\n",
    "      [1, 1],\n",
    "      [2, 3],\n",
    "      [3, 3]\n",
    "])\n",
    "Y= np.array([\n",
    "      1,\n",
    "      -1,\n",
    "      -1\n",
    "])\n",
    "\n",
    "#Convert array to list\n",
    "dataset_inputs  = toList(X)\n",
    "dataset_expected_outputs  = Y.tolist()\n",
    "inputs_len = len(dataset_inputs)\n",
    "expected_len = len(dataset_expected_outputs )\n",
    "inputs_dim = inputs_len//expected_len\n",
    "\n",
    "\n",
    "\n",
    "#Declaration of argtypes and restypes for the function create_model_SVM\n",
    "inputs_type = c_float * inputs_len\n",
    "outputs_type = c_float * expected_len\n",
    "my_lib.train_model_SVM.argtypes = [inputs_type,outputs_type,c_int,c_int,c_int]\n",
    "my_lib.train_model_SVM.restype = POINTER(c_double)\n",
    "\n",
    "inputs_native = inputs_type(*dataset_inputs)\n",
    "outputs_native = outputs_type(*dataset_expected_outputs)\n",
    "\n",
    "#Creation of model\n",
    "native_arr = my_lib.train_model_SVM(inputs_native,outputs_native,inputs_len,expected_len,inputs_dim)\n",
    "model_len = inputs_dim+1\n",
    "\n",
    "\n",
    "#Declaration of argtypes and restypes for the function predict_SVM\n",
    "native_type = type(native_arr)\n",
    "coordonate_type = c_double*model_len\n",
    "my_lib.predict_SVM.argtypes = [native_type,coordonate_type,c_int]\n",
    "my_lib.predict_SVM.restype = c_float\n",
    "\n",
    "\n",
    "\n",
    "#Trainning\n",
    "r = np.arange(0.0, 4.0, 0.25)\n",
    "\n",
    "points_x1_blue = []\n",
    "points_x2_blue = []\n",
    "\n",
    "points_x1_red = []\n",
    "points_x2_red = []\n",
    "\n",
    "\n",
    "for i in r:\n",
    "    for j in r:\n",
    "        coord = coordonate_type(*[1.0,i,j])\n",
    "        res=my_lib.predict_SVM(native_arr,coord,model_len)\n",
    "\n",
    "        if  res> 0.0:\n",
    "            points_x1_blue.append(i)\n",
    "            points_x2_blue.append(j)\n",
    "        else:\n",
    "            points_x1_red.append(i)\n",
    "            points_x2_red.append(j)\n",
    "\n",
    "np_arr = np.ctypeslib.as_array(native_arr, (model_len,))\n",
    "print(np_arr)\n",
    "\n",
    "plt.scatter(points_x1_blue, points_x2_blue, c='blue')\n",
    "plt.scatter(points_x1_red, points_x2_red, c='red')\n",
    "\n",
    "plt.scatter([X[p][0] for p in range(len(Y)) if Y[p]>0], [X[p][1] for p in range(len(Y)) if Y[p]>0], c='blue', s=100)\n",
    "plt.scatter([X[p][0] for p in range(len(Y)) if Y[p]<0], [X[p][1] for p in range(len(Y)) if Y[p]<0], c='red', s=100)\n",
    "\n",
    "plt.show()\n",
    "plt.clf()\n",
    "\n",
    "\n",
    "#Free memory\n",
    "my_lib.destroy_array_double.argtypes = [POINTER(c_double), c_int]\n",
    "my_lib.destroy_array_double.restype = None\n",
    "my_lib.destroy_array_double(native_arr, model_len)\n"
   ]
  },
  {
   "cell_type": "code",
   "execution_count": 5,
   "metadata": {},
   "outputs": [
    {
     "data": {
      "image/png": "[encoded data removed]",
      "text/plain": [
       "<Figure size 432x288 with 1 Axes>"
      ]
     },
     "metadata": {
      "needs_background": "light"
     },
     "output_type": "display_data"
    },
    {
     "data": {
      "text/plain": [
       "<Figure size 432x288 with 0 Axes>"
      ]
     },
     "metadata": {},
     "output_type": "display_data"
    }
   ],
   "source": [
    "#Dataset\n",
    "X= np.array([\n",
    "      [1, 1],\n",
    "      [2, 3],\n",
    "      [3, 3]\n",
    "])\n",
    "Y= np.array([\n",
    "      1,\n",
    "      -1,\n",
    "      -1\n",
    "])\n",
    "\n",
    "# Convert array to list\n",
    "dataset_inputs = toList(X)\n",
    "dataset_expected_outputs = Y\n",
    "inputs_len = len(dataset_inputs)\n",
    "expected_len = len(dataset_expected_outputs)\n",
    "inputs_dim = inputs_len // expected_len\n",
    "\n",
    "\n",
    "# Declaration of argtypes and restypes for the function create_model_SVM\n",
    "inputs_type = c_float * inputs_len\n",
    "outputs_type = c_float * expected_len\n",
    "my_lib.creat_model_SVM_trick.argtypes = [inputs_type, outputs_type, c_int, c_int, c_int]\n",
    "my_lib.creat_model_SVM_trick.restype = c_void_p\n",
    "\n",
    "inputs_native = inputs_type(*dataset_inputs)\n",
    "outputs_native = outputs_type(*dataset_expected_outputs)\n",
    "\n",
    "# Creation of model\n",
    "native_arr = my_lib.creat_model_SVM_trick(inputs_native, outputs_native, inputs_len, expected_len,inputs_dim)\n",
    "\n",
    "\n",
    "native_type = type(native_arr)\n",
    "native_type = c_void_p\n",
    "coordonate_type = c_float * inputs_dim\n",
    "my_lib.predict_SVM_trick.argtypes = [coordonate_type,native_type,c_int,c_int]\n",
    "my_lib.predict_SVM_trick.restype = c_float\n",
    "\n",
    "\n",
    "# Trainning\n",
    "r = np.arange(0.0, 4.0, 0.25)\n",
    "\n",
    "points_x1_blue = []\n",
    "points_x2_blue = []\n",
    "\n",
    "points_x1_red = []\n",
    "points_x2_red = []\n",
    "\n",
    "for i in r:\n",
    "    for j in r:\n",
    "        coord = coordonate_type(*[i, j])\n",
    "        res = my_lib.predict_SVM_trick(coord,native_arr,expected_len,inputs_dim)\n",
    "\n",
    "        if res > 0.0:\n",
    "            points_x1_blue.append(i)\n",
    "            points_x2_blue.append(j)\n",
    "        else:\n",
    "            points_x1_red.append(i)\n",
    "            points_x2_red.append(j)\n",
    "\n",
    "plt.scatter(points_x1_blue, points_x2_blue, c='blue')\n",
    "plt.scatter(points_x1_red, points_x2_red, c='red')\n",
    "\n",
    "plt.scatter([X[p][0] for p in range(len(Y)) if Y[p] > 0], [X[p][1] for p in range(len(Y)) if Y[p] > 0], c='blue',\n",
    "            s=100)\n",
    "plt.scatter([X[p][0] for p in range(len(Y)) if Y[p] < 0], [X[p][1] for p in range(len(Y)) if Y[p] < 0], c='red',\n",
    "            s=100)\n",
    "\n",
    "plt.show()\n",
    "plt.clf()\n",
    "\n",
    "#Free memory\n",
    "my_lib.destroy_model_SVM.argtypes = [c_void_p]\n",
    "my_lib.destroy_model_SVM.restype = None\n",
    "my_lib.destroy_model_SVM(native_arr)\n",
    "\n"
   ]
  },
  {
   "cell_type": "code",
   "execution_count": null,
   "metadata": {
    "colab": {
     "base_uri": "https://localhost:8080/",
     "height": 287
    },
    "id": "OpWOCJ5ZyDMY",
    "outputId": "25884536-e733-4cee-b175-79c147b7c927"
   },
   "outputs": [
    {
     "data": {
      "image/png": "[encoded data removed]",
      "text/plain": [
       "<Figure size 432x288 with 1 Axes>"
      ]
     },
     "metadata": {
      "tags": []
     },
     "output_type": "display_data"
    },
    {
     "data": {
      "text/plain": [
       "<Figure size 432x288 with 0 Axes>"
      ]
     },
     "metadata": {
      "tags": []
     },
     "output_type": "display_data"
    }
   ],
   "source": [
    "plt.scatter(X[0, 0], X[0, 1], color='blue')\n",
    "plt.scatter(X[1:3,0], X[1:3,1], color='red')\n",
    "plt.show()\n",
    "plt.clf()"
   ]
  },
  {
   "cell_type": "markdown",
   "metadata": {
    "id": "7v8KFue-zmCv"
   },
   "source": [
    "### Linear Multiple :\n",
    "        SVM: OK\n",
    "        svm TRICK   : OK"
   ]
  },
  {
   "cell_type": "markdown",
   "metadata": {},
   "source": [
    "### SVM "
   ]
  },
  {
   "cell_type": "code",
   "execution_count": 7,
   "metadata": {
    "id": "hZlnpb-qzmCw"
   },
   "outputs": [
    {
     "data": {
      "image/png": "[encoded data removed]",
      "text/plain": [
       "<Figure size 432x288 with 1 Axes>"
      ]
     },
     "metadata": {
      "needs_background": "light"
     },
     "output_type": "display_data"
    },
    {
     "data": {
      "text/plain": [
       "<Figure size 432x288 with 0 Axes>"
      ]
     },
     "metadata": {},
     "output_type": "display_data"
    }
   ],
   "source": [
    "X = np.concatenate([np.random.random((50,2)) * 0.9 + np.array([1, 1]), np.random.random((50,2)) * 0.9 + np.array([2, 2])])\n",
    "Y = np.concatenate([np.ones((50, 1)), np.ones((50, 1)) * -1.0])\n",
    "\n",
    "#Convert array to list\n",
    "dataset_inputs  = toList(X)\n",
    "dataset_expected_outputs  = toList(Y)\n",
    "inputs_len = len(dataset_inputs)\n",
    "expected_len = len(dataset_expected_outputs )\n",
    "inputs_dim = inputs_len//expected_len\n",
    "\n",
    "\n",
    "\n",
    "#Declaration of argtypes and restypes for the function create_model_SVM\n",
    "inputs_type = c_float * inputs_len\n",
    "outputs_type = c_float * expected_len\n",
    "my_lib.train_model_SVM.argtypes = [inputs_type,outputs_type,c_int,c_int,c_int]\n",
    "my_lib.train_model_SVM.restype = POINTER(c_double)\n",
    "\n",
    "inputs_native = inputs_type(*dataset_inputs)\n",
    "outputs_native = outputs_type(*dataset_expected_outputs)\n",
    "\n",
    "#Creation of model\n",
    "native_arr = my_lib.train_model_SVM(inputs_native,outputs_native,inputs_len,expected_len,inputs_dim)\n",
    "model_len = inputs_dim+1\n",
    "\n",
    "\n",
    "#Declaration of argtypes and restypes for the function predict_SVM\n",
    "native_type = type(native_arr)\n",
    "coordonate_type = c_double*model_len\n",
    "my_lib.predict_SVM.argtypes = [native_type,coordonate_type,c_int]\n",
    "my_lib.predict_SVM.restype = c_float\n",
    "\n",
    "\n",
    "\n",
    "#Trainning\n",
    "r = np.arange(0.0, 4.0, 0.25)\n",
    "\n",
    "points_x1_blue = []\n",
    "points_x2_blue = []\n",
    "\n",
    "points_x1_red = []\n",
    "points_x2_red = []\n",
    "\n",
    "\n",
    "for i in r:\n",
    "    for j in r:\n",
    "        coord = coordonate_type(*[1.0,i,j])\n",
    "        res=my_lib.predict_SVM(native_arr,coord,model_len)\n",
    "\n",
    "        if  res> 0.0:\n",
    "            points_x1_blue.append(i)\n",
    "            points_x2_blue.append(j)\n",
    "        else:\n",
    "            points_x1_red.append(i)\n",
    "            points_x2_red.append(j)\n",
    "\n",
    "\n",
    "\n",
    "plt.scatter(points_x1_blue, points_x2_blue, c='blue')\n",
    "plt.scatter(points_x1_red, points_x2_red, c='red')\n",
    "\n",
    "plt.scatter([X[p][0] for p in range(len(Y)) if Y[p]>0], [X[p][1] for p in range(len(Y)) if Y[p]>0], c='blue', s=100)\n",
    "plt.scatter([X[p][0] for p in range(len(Y)) if Y[p]<0], [X[p][1] for p in range(len(Y)) if Y[p]<0], c='red', s=100)\n",
    "\n",
    "plt.show()\n",
    "plt.clf()\n",
    "\n",
    "\n",
    "#Free memory\n",
    "#my_lib.destroy_array_double.argtypes = [POINTER(c_double), c_int]\n",
    "#my_lib.destroy_array_double.restype = None\n",
    "#my_lib.destroy_array_double(native_arr, model_len)\n"
   ]
  },
  {
   "cell_type": "markdown",
   "metadata": {},
   "source": [
    "### SVM Trick"
   ]
  },
  {
   "cell_type": "code",
   "execution_count": 8,
   "metadata": {},
   "outputs": [
    {
     "data": {
      "image/png": "[encoded data removed]",
      "text/plain": [
       "<Figure size 432x288 with 1 Axes>"
      ]
     },
     "metadata": {
      "needs_background": "light"
     },
     "output_type": "display_data"
    },
    {
     "data": {
      "text/plain": [
       "<Figure size 432x288 with 0 Axes>"
      ]
     },
     "metadata": {},
     "output_type": "display_data"
    }
   ],
   "source": [
    "\n",
    "X = np.concatenate([np.random.random((50,2)) * 0.9 + np.array([1, 1]), np.random.random((50,2)) * 0.9 + np.array([2, 2])])\n",
    "Y = np.concatenate([np.ones((50, 1)), np.ones((50, 1)) * -1.0])\n",
    "\n",
    "\n",
    "# Convert array to list\n",
    "dataset_inputs = toList(X)\n",
    "dataset_expected_outputs = Y\n",
    "inputs_len = len(dataset_inputs)\n",
    "expected_len = len(dataset_expected_outputs)\n",
    "inputs_dim = inputs_len // expected_len\n",
    "\n",
    "\n",
    "# Declaration of argtypes and restypes for the function create_model_SVM\n",
    "inputs_type = c_float * inputs_len\n",
    "outputs_type = c_float * expected_len\n",
    "my_lib.creat_model_SVM_trick.argtypes = [inputs_type, outputs_type, c_int, c_int, c_int]\n",
    "my_lib.creat_model_SVM_trick.restype = c_void_p\n",
    "\n",
    "inputs_native = inputs_type(*dataset_inputs)\n",
    "outputs_native = outputs_type(*dataset_expected_outputs)\n",
    "\n",
    "# Creation of model\n",
    "native_arr = my_lib.creat_model_SVM_trick(inputs_native, outputs_native, inputs_len, expected_len,inputs_dim)\n",
    "\n",
    "\n",
    "native_type = type(native_arr)\n",
    "native_type = c_void_p\n",
    "coordonate_type = c_float * inputs_dim\n",
    "my_lib.predict_SVM_trick.argtypes = [coordonate_type,native_type,c_int,c_int]\n",
    "my_lib.predict_SVM_trick.restype = c_float\n",
    "\n",
    "\n",
    "# Trainning\n",
    "r = np.arange(0.0, 4.0, 0.25)\n",
    "\n",
    "points_x1_blue = []\n",
    "points_x2_blue = []\n",
    "\n",
    "points_x1_red = []\n",
    "points_x2_red = []\n",
    "\n",
    "for i in r:\n",
    "    for j in r:\n",
    "        coord = coordonate_type(*[i, j])\n",
    "        res = my_lib.predict_SVM_trick(coord,native_arr,expected_len,inputs_dim)\n",
    "\n",
    "        if res > 0.0:\n",
    "            points_x1_blue.append(i)\n",
    "            points_x2_blue.append(j)\n",
    "        else:\n",
    "            points_x1_red.append(i)\n",
    "            points_x2_red.append(j)\n",
    "\n",
    "plt.scatter(points_x1_blue, points_x2_blue, c='blue')\n",
    "plt.scatter(points_x1_red, points_x2_red, c='red')\n",
    "\n",
    "plt.scatter([X[p][0] for p in range(len(Y)) if Y[p] > 0], [X[p][1] for p in range(len(Y)) if Y[p] > 0], c='blue',\n",
    "            s=100)\n",
    "plt.scatter([X[p][0] for p in range(len(Y)) if Y[p] < 0], [X[p][1] for p in range(len(Y)) if Y[p] < 0], c='red',\n",
    "            s=100)\n",
    "\n",
    "plt.show()\n",
    "plt.clf()\n",
    "\n",
    "#Free memory\n",
    "my_lib.destroy_model_SVM.argtypes = [c_void_p]\n",
    "my_lib.destroy_model_SVM.restype = None\n",
    "my_lib.destroy_model_SVM(native_arr)"
   ]
  },
  {
   "cell_type": "code",
   "execution_count": null,
   "metadata": {
    "colab": {
     "base_uri": "https://localhost:8080/",
     "height": 282
    },
    "id": "a6e8GdL_zmCx",
    "outputId": "10b1a13c-51b3-4b33-930b-541bb01f159f"
   },
   "outputs": [
    {
     "data": {
      "image/png": "[encoded data removed]",
      "text/plain": [
       "<Figure size 432x288 with 1 Axes>"
      ]
     },
     "metadata": {
      "needs_background": "light",
      "tags": []
     },
     "output_type": "display_data"
    },
    {
     "data": {
      "text/plain": [
       "<Figure size 432x288 with 0 Axes>"
      ]
     },
     "metadata": {
      "tags": []
     },
     "output_type": "display_data"
    }
   ],
   "source": [
    "plt.scatter(X[0:50, 0], X[0:50, 1], color='blue')\n",
    "plt.scatter(X[50:100,0], X[50:100,1], color='red')\n",
    "plt.show()\n",
    "plt.clf()\n",
    "\n"
   ]
  },
  {
   "cell_type": "markdown",
   "metadata": {
    "id": "gZlONmsp1T_W"
   },
   "source": [
    "### XOR :\n",
    "        Linear Model    : KO\n",
    "        MLP (2, 2, 1)   : OK"
   ]
  },
  {
   "cell_type": "code",
   "execution_count": 9,
   "metadata": {},
   "outputs": [
    {
     "data": {
      "image/png": "[encoded data removed]",
      "text/plain": [
       "<Figure size 432x288 with 1 Axes>"
      ]
     },
     "metadata": {
      "needs_background": "light"
     },
     "output_type": "display_data"
    },
    {
     "data": {
      "text/plain": [
       "<Figure size 432x288 with 0 Axes>"
      ]
     },
     "metadata": {},
     "output_type": "display_data"
    }
   ],
   "source": [
    "X = np.array([[1, 0], [0, 1], [0, 0], [1, 1]])\n",
    "Y = np.array([1, 1, -1, -1])\n",
    "\n",
    "# Convert array to list\n",
    "dataset_inputs = toList(X)\n",
    "dataset_expected_outputs = Y\n",
    "inputs_len = len(dataset_inputs)\n",
    "expected_len = len(dataset_expected_outputs)\n",
    "inputs_dim = inputs_len // expected_len\n",
    "\n",
    "\n",
    "# Declaration of argtypes and restypes for the function create_model_SVM\n",
    "inputs_type = c_float * inputs_len\n",
    "outputs_type = c_float * expected_len\n",
    "my_lib.creat_model_SVM_trick.argtypes = [inputs_type, outputs_type, c_int, c_int, c_int]\n",
    "my_lib.creat_model_SVM_trick.restype = c_void_p\n",
    "\n",
    "inputs_native = inputs_type(*dataset_inputs)\n",
    "outputs_native = outputs_type(*dataset_expected_outputs)\n",
    "\n",
    "# Creation of model\n",
    "native_arr = my_lib.creat_model_SVM_trick(inputs_native, outputs_native, inputs_len, expected_len,inputs_dim)\n",
    "\n",
    "\n",
    "native_type = type(native_arr)\n",
    "native_type = c_void_p\n",
    "coordonate_type = c_float * inputs_dim\n",
    "my_lib.predict_SVM_trick.argtypes = [coordonate_type,native_type,c_int,c_int]\n",
    "my_lib.predict_SVM_trick.restype = c_float\n",
    "\n",
    "\n",
    "# Trainning\n",
    "r = np.arange(0.0, 1.10, 0.10)\n",
    "\n",
    "points_x1_blue = []\n",
    "points_x2_blue = []\n",
    "\n",
    "points_x1_red = []\n",
    "points_x2_red = []\n",
    "\n",
    "for i in r:\n",
    "    for j in r:\n",
    "        coord = coordonate_type(*[i, j])\n",
    "        res = my_lib.predict_SVM_trick(coord,native_arr,expected_len,inputs_dim)\n",
    "\n",
    "        if res > 0.0:\n",
    "            points_x1_blue.append(i)\n",
    "            points_x2_blue.append(j)\n",
    "        else:\n",
    "            points_x1_red.append(i)\n",
    "            points_x2_red.append(j)\n",
    "\n",
    "plt.scatter(points_x1_blue, points_x2_blue, c='blue')\n",
    "plt.scatter(points_x1_red, points_x2_red, c='red')\n",
    "\n",
    "plt.scatter([X[p][0] for p in range(len(Y)) if Y[p] > 0], [X[p][1] for p in range(len(Y)) if Y[p] > 0], c='blue',\n",
    "            s=100)\n",
    "plt.scatter([X[p][0] for p in range(len(Y)) if Y[p] < 0], [X[p][1] for p in range(len(Y)) if Y[p] < 0], c='red',\n",
    "            s=100)\n",
    "\n",
    "plt.show()\n",
    "plt.clf()\n",
    "\n",
    "#Free memory\n",
    "my_lib.destroy_model_SVM.argtypes = [c_void_p]\n",
    "my_lib.destroy_model_SVM.restype = None\n",
    "my_lib.destroy_model_SVM(native_arr)\n"
   ]
  },
  {
   "cell_type": "code",
   "execution_count": 10,
   "metadata": {
    "id": "673wfC9U1T_W"
   },
   "outputs": [],
   "source": [
    "X = np.array([[1, 0], [0, 1], [0, 0], [1, 1]])\n",
    "Y = np.array([1, 1, -1, -1])"
   ]
  },
  {
   "cell_type": "code",
   "execution_count": null,
   "metadata": {
    "colab": {
     "base_uri": "https://localhost:8080/",
     "height": 283
    },
    "id": "uA3E-h801T_Y",
    "outputId": "9fc31c6d-e44c-447b-a7c0-a3fa7b0d778e"
   },
   "outputs": [
    {
     "data": {
      "image/png": "[encoded data removed]",
      "text/plain": [
       "<Figure size 432x288 with 1 Axes>"
      ]
     },
     "metadata": {
      "needs_background": "light",
      "tags": []
     },
     "output_type": "display_data"
    },
    {
     "data": {
      "text/plain": [
       "<Figure size 432x288 with 0 Axes>"
      ]
     },
     "metadata": {
      "tags": []
     },
     "output_type": "display_data"
    }
   ],
   "source": [
    "plt.scatter(X[0:2, 0], X[0:2, 1], color='blue')\n",
    "plt.scatter(X[2:4,0], X[2:4,1], color='red')\n",
    "plt.show()\n",
    "plt.clf()"
   ]
  },
  {
   "cell_type": "markdown",
   "metadata": {
    "id": "5qxkXVo02MpM"
   },
   "source": [
    "\n",
    "\n",
    "\n",
    "\n",
    "\n",
    "\n",
    "\n",
    "\n",
    "\n",
    "\n",
    "\n",
    "\n",
    "\n",
    "\n",
    "\n",
    "\n",
    "\n",
    "\n",
    "\n",
    "\n",
    "\n",
    "\n",
    "\n",
    "\n",
    "\n",
    "\n",
    "\n",
    "\n",
    "\n",
    "\n",
    "\n",
    "\n",
    "\n",
    "\n",
    "\n",
    "\n",
    "\n",
    "\n",
    "\n",
    "\n",
    "\n",
    "\n",
    "\n",
    "\n",
    "\n",
    "\n",
    "\n",
    "\n",
    "\n",
    "\n",
    "\n",
    "\n",
    "\n",
    "\n",
    "\n",
    "\n",
    "\n",
    "\n",
    "\n",
    "\n",
    "\n",
    "\n",
    "\n",
    "\n",
    "\n",
    "\n",
    "\n",
    "\n",
    "\n",
    "\n",
    "\n",
    "\n",
    "\n",
    "\n",
    "\n",
    "\n",
    "\n",
    "\n",
    "\n",
    "\n",
    "\n",
    "\n",
    "\n",
    "\n",
    "\n",
    "\n",
    "\n",
    "\n",
    "### Cross :\n",
    "        Linear Model    : KO\n",
    "        MLP (2, 4, 1)   : OK"
   ]
  },
  {
   "cell_type": "code",
   "execution_count": 12,
   "metadata": {},
   "outputs": [
    {
     "data": {
      "image/png": "[encoded data removed]",
      "text/plain": [
       "<Figure size 432x288 with 1 Axes>"
      ]
     },
     "metadata": {
      "needs_background": "light"
     },
     "output_type": "display_data"
    },
    {
     "data": {
      "text/plain": [
       "<Figure size 432x288 with 0 Axes>"
      ]
     },
     "metadata": {},
     "output_type": "display_data"
    }
   ],
   "source": [
    "X = np.random.random((500, 2)) * 2.0 - 1.0\n",
    "Y = np.array([1 if abs(p[0]) <= 0.3 or abs(p[1]) <= 0.3 else -1 for p in X])\n",
    "\n",
    "# Convert array to list\n",
    "dataset_inputs = toList(X)\n",
    "dataset_expected_outputs = Y\n",
    "inputs_len = len(dataset_inputs)\n",
    "expected_len = len(dataset_expected_outputs)\n",
    "inputs_dim = inputs_len // expected_len\n",
    "\n",
    "\n",
    "# Declaration of argtypes and restypes for the function create_model_SVM\n",
    "inputs_type = c_float * inputs_len\n",
    "outputs_type = c_float * expected_len\n",
    "my_lib.creat_model_SVM_trick.argtypes = [inputs_type, outputs_type, c_int, c_int, c_int]\n",
    "my_lib.creat_model_SVM_trick.restype = c_void_p\n",
    "\n",
    "inputs_native = inputs_type(*dataset_inputs)\n",
    "outputs_native = outputs_type(*dataset_expected_outputs)\n",
    "\n",
    "# Creation of model\n",
    "native_arr = my_lib.creat_model_SVM_trick(inputs_native, outputs_native, inputs_len, expected_len,inputs_dim)\n",
    "\n",
    "\n",
    "native_type = type(native_arr)\n",
    "native_type = c_void_p\n",
    "coordonate_type = c_float * inputs_dim\n",
    "my_lib.predict_SVM_trick.argtypes = [coordonate_type,native_type,c_int,c_int]\n",
    "my_lib.predict_SVM_trick.restype = c_float\n",
    "\n",
    "\n",
    "# Trainning\n",
    "r = np.arange(-1.4, 1.5, 0.20)\n",
    "\n",
    "points_x1_blue = []\n",
    "points_x2_blue = []\n",
    "\n",
    "points_x1_red = []\n",
    "points_x2_red = []\n",
    "\n",
    "for i in r:\n",
    "    for j in r:\n",
    "        coord = coordonate_type(*[i, j])\n",
    "        res = my_lib.predict_SVM_trick(coord,native_arr,expected_len,inputs_dim)\n",
    "\n",
    "        if res > 0.0:\n",
    "            points_x1_blue.append(i)\n",
    "            points_x2_blue.append(j)\n",
    "        else:\n",
    "            points_x1_red.append(i)\n",
    "            points_x2_red.append(j)\n",
    "\n",
    "plt.scatter(points_x1_blue, points_x2_blue, c='blue')\n",
    "plt.scatter(points_x1_red, points_x2_red, c='red')\n",
    "\n",
    "plt.scatter([X[p][0] for p in range(len(Y)) if Y[p] > 0], [X[p][1] for p in range(len(Y)) if Y[p] > 0], c='blue',\n",
    "            s=100)\n",
    "plt.scatter([X[p][0] for p in range(len(Y)) if Y[p] < 0], [X[p][1] for p in range(len(Y)) if Y[p] < 0], c='red',\n",
    "            s=100)\n",
    "\n",
    "plt.show()\n",
    "plt.clf()\n",
    "\n",
    "#Free memory\n",
    "my_lib.destroy_model_SVM.argtypes = [c_void_p]\n",
    "my_lib.destroy_model_SVM.restype = None\n",
    "my_lib.destroy_model_SVM(native_arr)"
   ]
  },
  {
   "cell_type": "code",
   "execution_count": null,
   "metadata": {
    "id": "7kkrrfnX2MpM"
   },
   "outputs": [],
   "source": [
    "X = np.random.random((500, 2)) * 2.0 - 1.0\n",
    "Y = np.array([1 if abs(p[0]) <= 0.3 or abs(p[1]) <= 0.3 else -1 for p in X])"
   ]
  },
  {
   "cell_type": "code",
   "execution_count": null,
   "metadata": {
    "colab": {
     "base_uri": "https://localhost:8080/",
     "height": 287
    },
    "id": "zVBAE2fY2MpO",
    "outputId": "46b434a6-2fd8-492e-c080-14b0d0028968"
   },
   "outputs": [
    {
     "data": {
      "image/png": "[encoded data removed]",
      "text/plain": [
       "<Figure size 432x288 with 1 Axes>"
      ]
     },
     "metadata": {
      "tags": []
     },
     "output_type": "display_data"
    },
    {
     "data": {
      "text/plain": [
       "<Figure size 432x288 with 0 Axes>"
      ]
     },
     "metadata": {
      "tags": []
     },
     "output_type": "display_data"
    }
   ],
   "source": [
    "plt.scatter(np.array(list(map(lambda elt : elt[1], filter(lambda c: Y[c[0]] == 1, enumerate(X)))))[:,0], np.array(list(map(lambda elt : elt[1], filter(lambda c: Y[c[0]] == 1, enumerate(X)))))[:,1], color='blue')\n",
    "plt.scatter(np.array(list(map(lambda elt : elt[1], filter(lambda c: Y[c[0]] == -1, enumerate(X)))))[:,0], np.array(list(map(lambda elt : elt[1], filter(lambda c: Y[c[0]] == -1, enumerate(X)))))[:,1], color='red')\n",
    "plt.show()\n",
    "plt.clf()"
   ]
  },
  {
   "cell_type": "markdown",
   "metadata": {
    "id": "v4hhnYge928d"
   },
   "source": [
    "### Multi Linear 3 classes :\n",
    "        SVM : OK\n",
    "        SVM trick      : OK"
   ]
  },
  {
   "cell_type": "code",
   "execution_count": 5,
   "metadata": {
    "id": "IvhvqkDw928q"
   },
   "outputs": [
    {
     "data": {
      "image/png": "[encoded data removed]",
      "text/plain": [
       "<Figure size 432x288 with 1 Axes>"
      ]
     },
     "metadata": {
      "needs_background": "light"
     },
     "output_type": "display_data"
    },
    {
     "data": {
      "image/png": "[encoded data removed]",
      "text/plain": [
       "<Figure size 432x288 with 1 Axes>"
      ]
     },
     "metadata": {
      "needs_background": "light"
     },
     "output_type": "display_data"
    },
    {
     "data": {
      "image/png": "[encoded data removed]",
      "text/plain": [
       "<Figure size 432x288 with 1 Axes>"
      ]
     },
     "metadata": {
      "needs_background": "light"
     },
     "output_type": "display_data"
    },
    {
     "data": {
      "text/plain": [
       "<Figure size 432x288 with 0 Axes>"
      ]
     },
     "metadata": {},
     "output_type": "display_data"
    }
   ],
   "source": [
    "X = np.random.random((500, 2)) * 2.0 - 1.0\n",
    "Y = np.array([[1, 0, 0] if -p[0] - p[1] - 0.5 > 0 and p[1] < 0 and p[0] - p[1] - 0.5 < 0 else\n",
    "              [0, 1, 0] if -p[0] - p[1] - 0.5 < 0 and p[1] > 0 and p[0] - p[1] - 0.5 < 0 else\n",
    "              [0, 0, 1] if -p[0] - p[1] - 0.5 < 0 and p[1] < 0 and p[0] - p[1] - 0.5 > 0 else\n",
    "              [0, 0, 0] for p in X])\n",
    "\n",
    "# Convert array to list\n",
    "dataset_inputs = toList(X)\n",
    "dataset_expected_outputs = [1 if i == 1 else -1 for i in Y[:, 0]]\n",
    "dataset_expected_outputs2 = [1 if i == 1 else -1 for i in Y[:, 1]]\n",
    "dataset_expected_outputs3 = [1 if i == 1 else -1 for i in Y[:, 2]]\n",
    "inputs_len = len(dataset_inputs)\n",
    "expected_len = len(dataset_expected_outputs)\n",
    "inputs_dim = inputs_len // expected_len\n",
    "\n",
    "# Declaration of argtypes and restypes for the function create_model_SVM\n",
    "inputs_type = c_float * inputs_len\n",
    "outputs_type = c_float * expected_len\n",
    "my_lib.creat_model_SVM_trick.argtypes = [inputs_type, outputs_type, c_int, c_int, c_int]\n",
    "my_lib.creat_model_SVM_trick.restype = c_void_p\n",
    "\n",
    "inputs_native = inputs_type(*dataset_inputs)\n",
    "outputs_native = outputs_type(*dataset_expected_outputs)\n",
    "\n",
    "# Creation of model\n",
    "native_arr = my_lib.creat_model_SVM_trick(inputs_native, outputs_native, inputs_len, expected_len, inputs_dim)\n",
    "native_type = c_void_p\n",
    "coordonate_type = c_float * inputs_dim\n",
    "my_lib.predict_SVM_trick.argtypes = [coordonate_type, native_type, c_int, c_int]\n",
    "my_lib.predict_SVM_trick.restype = c_float\n",
    "\n",
    "# Trainning\n",
    "r = np.arange(-1.0, 1.25, 0.25)\n",
    "\n",
    "points_x1_blue = []\n",
    "points_x2_blue = []\n",
    "\n",
    "points_x1_no_blue = []\n",
    "points_x2_no_blue = []\n",
    "\n",
    "for i in r:\n",
    "    for j in r:\n",
    "        coord = coordonate_type(*[i, j])\n",
    "        res = my_lib.predict_SVM_trick(coord, native_arr, expected_len, inputs_dim)\n",
    "\n",
    "        if res > 0.0:\n",
    "            points_x1_blue.append(i)\n",
    "            points_x2_blue.append(j)\n",
    "        else:\n",
    "            points_x1_no_blue.append(i)\n",
    "            points_x2_no_blue.append(j)\n",
    "\n",
    "\n",
    "plt.scatter(points_x1_blue, points_x2_blue, c='blue')\n",
    "plt.scatter(points_x1_no_blue, points_x2_no_blue, c='purple')\n",
    "\n",
    "#plt.scatter([X[p][0] for p in range(len(dataset_expected_outputs)) if dataset_expected_outputs[p] > 0], [X[p][1] for p in range(len(dataset_expected_outputs)) if dataset_expected_outputs[p] > 0], c='blue',\n",
    "#            s=100)\n",
    "#plt.scatter([X[p][0] for p in range(len(dataset_expected_outputs)) if dataset_expected_outputs[p] < 0], [X[p][1] for p in range(len(dataset_expected_outputs)) if dataset_expected_outputs[p] < 0], c='purple',\n",
    "#           s=100)\n",
    "\n",
    "plt.show()\n",
    "plt.clf()\n",
    "\n",
    "# Free memory\n",
    "my_lib.destroy_model_SVM.argtypes = [c_void_p]\n",
    "my_lib.destroy_model_SVM.restype = None\n",
    "my_lib.destroy_model_SVM(native_arr)\n",
    "\n",
    "\n",
    "#####################################################\n",
    "#####################################################\n",
    "\n",
    "# Declaration of argtypes and restypes for the function create_model_SVM\n",
    "inputs_type = c_float * inputs_len\n",
    "outputs_type = c_float * expected_len\n",
    "my_lib.creat_model_SVM_trick.argtypes = [inputs_type, outputs_type, c_int, c_int, c_int]\n",
    "my_lib.creat_model_SVM_trick.restype = c_void_p\n",
    "\n",
    "inputs_native = inputs_type(*dataset_inputs)\n",
    "outputs_native = outputs_type(*dataset_expected_outputs2)\n",
    "\n",
    "# Creation of model\n",
    "native_arr = my_lib.creat_model_SVM_trick(inputs_native, outputs_native, inputs_len, expected_len, inputs_dim)\n",
    "native_type = c_void_p\n",
    "coordonate_type = c_float * inputs_dim\n",
    "my_lib.predict_SVM_trick.argtypes = [coordonate_type, native_type, c_int, c_int]\n",
    "my_lib.predict_SVM_trick.restype = c_float\n",
    "\n",
    "# Trainning\n",
    "r = np.arange(-1.0, 1.25, 0.25)\n",
    "\n",
    "points_x1_red = []\n",
    "points_x2_red = []\n",
    "\n",
    "points_x1_no_red = []\n",
    "points_x2_no_red = []\n",
    "\n",
    "for i in r:\n",
    "    for j in r:\n",
    "        coord = coordonate_type(*[i, j])\n",
    "        res = my_lib.predict_SVM_trick(coord, native_arr, expected_len, inputs_dim)\n",
    "\n",
    "        if res > 0.0:\n",
    "            points_x1_red.append(i)\n",
    "            points_x2_red.append(j)\n",
    "        else:\n",
    "            points_x1_no_red.append(i)\n",
    "            points_x2_no_red.append(j)\n",
    "\n",
    "\n",
    "plt.scatter(points_x1_red, points_x2_red, c='red')\n",
    "plt.scatter(points_x1_no_red, points_x2_no_red, c='purple')\n",
    "\n",
    "#plt.scatter([X[p][0] for p in range(len(dataset_expected_outputs)) if dataset_expected_outputs[p] > 0], [X[p][1] for p in range(len(dataset_expected_outputs)) if dataset_expected_outputs[p] > 0], c='blue',\n",
    "#            s=100)\n",
    "#plt.scatter([X[p][0] for p in range(len(dataset_expected_outputs)) if dataset_expected_outputs[p] < 0], [X[p][1] for p in range(len(dataset_expected_outputs)) if dataset_expected_outputs[p] < 0], c='purple',\n",
    "#           s=100)\n",
    "\n",
    "plt.show()\n",
    "plt.clf()\n",
    "\n",
    "# Free memory\n",
    "my_lib.destroy_model_SVM.argtypes = [c_void_p]\n",
    "my_lib.destroy_model_SVM.restype = None\n",
    "my_lib.destroy_model_SVM(native_arr)\n",
    "\n",
    "#####################################################\n",
    "#####################################################\n",
    "\n",
    "# Declaration of argtypes and restypes for the function create_model_SVM\n",
    "inputs_type = c_float * inputs_len\n",
    "outputs_type = c_float * expected_len\n",
    "my_lib.creat_model_SVM_trick.argtypes = [inputs_type, outputs_type, c_int, c_int, c_int]\n",
    "my_lib.creat_model_SVM_trick.restype = c_void_p\n",
    "\n",
    "inputs_native = inputs_type(*dataset_inputs)\n",
    "outputs_native = outputs_type(*dataset_expected_outputs3)\n",
    "\n",
    "# Creation of model\n",
    "native_arr = my_lib.creat_model_SVM_trick(inputs_native, outputs_native, inputs_len, expected_len, inputs_dim)\n",
    "native_type = c_void_p\n",
    "coordonate_type = c_float * inputs_dim\n",
    "my_lib.predict_SVM_trick.argtypes = [coordonate_type, native_type, c_int, c_int]\n",
    "my_lib.predict_SVM_trick.restype = c_float\n",
    "\n",
    "# Trainning\n",
    "r = np.arange(-1.0, 1.25, 0.25)\n",
    "\n",
    "points_x1_green = []\n",
    "points_x2_green = []\n",
    "\n",
    "points_x1_no_green = []\n",
    "points_x2_no_green = []\n",
    "\n",
    "for i in r:\n",
    "    for j in r:\n",
    "        coord = coordonate_type(*[i, j])\n",
    "        res = my_lib.predict_SVM_trick(coord, native_arr, expected_len, inputs_dim)\n",
    "\n",
    "        if res > 0.0:\n",
    "            points_x1_green.append(i)\n",
    "            points_x2_green.append(j)\n",
    "        else:\n",
    "            points_x1_no_green.append(i)\n",
    "            points_x2_no_green.append(j)\n",
    "\n",
    "\n",
    "plt.scatter(points_x1_green, points_x2_green, c='green')\n",
    "plt.scatter(points_x1_no_green, points_x2_no_green, c='purple')\n",
    "\n",
    "#plt.scatter([X[p][0] for p in range(len(dataset_expected_outputs)) if dataset_expected_outputs[p] > 0], [X[p][1] for p in range(len(dataset_expected_outputs)) if dataset_expected_outputs[p] > 0], c='blue',\n",
    "#            s=100)\n",
    "#plt.scatter([X[p][0] for p in range(len(dataset_expected_outputs)) if dataset_expected_outputs[p] < 0], [X[p][1] for p in range(len(dataset_expected_outputs)) if dataset_expected_outputs[p] < 0], c='purple',\n",
    "#           s=100)\n",
    "\n",
    "plt.show()\n",
    "plt.clf()\n",
    "\n",
    "# Free memory\n",
    "my_lib.destroy_model_SVM.argtypes = [c_void_p]\n",
    "my_lib.destroy_model_SVM.restype = None\n",
    "my_lib.destroy_model_SVM(native_arr)"
   ]
  },
  {
   "cell_type": "code",
   "execution_count": null,
   "metadata": {
    "colab": {
     "base_uri": "https://localhost:8080/",
     "height": 287
    },
    "id": "4aqzcUlJ928s",
    "outputId": "71df307b-e9c9-4a2d-a942-b75e3a141e46"
   },
   "outputs": [
    {
     "data": {
      "image/png": "[encoded data removed]",
      "text/plain": [
       "<Figure size 432x288 with 1 Axes>"
      ]
     },
     "metadata": {
      "tags": []
     },
     "output_type": "display_data"
    },
    {
     "data": {
      "text/plain": [
       "<Figure size 432x288 with 0 Axes>"
      ]
     },
     "metadata": {
      "tags": []
     },
     "output_type": "display_data"
    }
   ],
   "source": [
    "plt.scatter(np.array(list(map(lambda elt : elt[1], filter(lambda c: Y[c[0]][0] == 1, enumerate(X)))))[:,0], np.array(list(map(lambda elt : elt[1], filter(lambda c: Y[c[0]][0] == 1, enumerate(X)))))[:,1], color='blue')\n",
    "plt.scatter(np.array(list(map(lambda elt : elt[1], filter(lambda c: Y[c[0]][1] == 1, enumerate(X)))))[:,0], np.array(list(map(lambda elt : elt[1], filter(lambda c: Y[c[0]][1] == 1, enumerate(X)))))[:,1], color='red')\n",
    "plt.scatter(np.array(list(map(lambda elt : elt[1], filter(lambda c: Y[c[0]][2] == 1, enumerate(X)))))[:,0], np.array(list(map(lambda elt : elt[1], filter(lambda c: Y[c[0]][2] == 1, enumerate(X)))))[:,1], color='green')\n",
    "plt.show()\n",
    "plt.clf()"
   ]
  },
  {
   "cell_type": "markdown",
   "metadata": {
    "id": "uKFBx2m066i2"
   },
   "source": [
    "### Multi Cross :\n",
    "        Linear Model x3 : KO\n",
    "        MLP (2, ?, ?, 3): OK"
   ]
  },
  {
   "cell_type": "code",
   "execution_count": null,
   "metadata": {
    "id": "0ZE8OW-K66i5"
   },
   "outputs": [],
   "source": [
    "X = np.random.random((1000, 2)) * 2.0 - 1.0\n",
    "Y = np.array([[1, 0, 0] if abs(p[0] % 0.5) <= 0.25 and abs(p[1] % 0.5) > 0.25 else [0, 1, 0] if abs(p[0] % 0.5) > 0.25 and abs(p[1] % 0.5) <= 0.25 else [0, 0, 1] for p in X])"
   ]
  },
  {
   "cell_type": "code",
   "execution_count": null,
   "metadata": {
    "colab": {
     "base_uri": "https://localhost:8080/",
     "height": 287
    },
    "id": "55U95UMS66i6",
    "outputId": "f14df72f-c2c1-4498-9668-f91f29594b06"
   },
   "outputs": [
    {
     "data": {
      "image/png": "[encoded data removed]",
      "text/plain": [
       "<Figure size 432x288 with 1 Axes>"
      ]
     },
     "metadata": {
      "tags": []
     },
     "output_type": "display_data"
    },
    {
     "data": {
      "text/plain": [
       "<Figure size 432x288 with 0 Axes>"
      ]
     },
     "metadata": {
      "tags": []
     },
     "output_type": "display_data"
    }
   ],
   "source": [
    "plt.scatter(np.array(list(map(lambda elt : elt[1], filter(lambda c: Y[c[0]][0] == 1, enumerate(X)))))[:,0], np.array(list(map(lambda elt : elt[1], filter(lambda c: Y[c[0]][0] == 1, enumerate(X)))))[:,1], color='blue')\n",
    "plt.scatter(np.array(list(map(lambda elt : elt[1], filter(lambda c: Y[c[0]][1] == 1, enumerate(X)))))[:,0], np.array(list(map(lambda elt : elt[1], filter(lambda c: Y[c[0]][1] == 1, enumerate(X)))))[:,1], color='red')\n",
    "plt.scatter(np.array(list(map(lambda elt : elt[1], filter(lambda c: Y[c[0]][2] == 1, enumerate(X)))))[:,0], np.array(list(map(lambda elt : elt[1], filter(lambda c: Y[c[0]][2] == 1, enumerate(X)))))[:,1], color='green')\n",
    "plt.show()\n",
    "plt.clf()"
   ]
  }
 ],
 "metadata": {
  "colab": {
   "collapsed_sections": [],
   "name": "Notebook _ CAS DE TESTS.ipynb",
   "provenance": []
  },
  "kernelspec": {
   "display_name": "Python 3",
   "language": "python",
   "name": "python3"
  },
  "language_info": {
   "codemirror_mode": {
    "name": "ipython",
    "version": 3
   },
   "file_extension": ".py",
   "mimetype": "text/x-python",
   "name": "python",
   "nbconvert_exporter": "python",
   "pygments_lexer": "ipython3",
   "version": "3.7.6"
  }
 },
 "nbformat": 4,
 "nbformat_minor": 1
}
