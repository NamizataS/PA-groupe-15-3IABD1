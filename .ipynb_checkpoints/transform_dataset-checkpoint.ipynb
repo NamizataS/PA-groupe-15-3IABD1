{
 "cells": [
  {
   "cell_type": "code",
   "execution_count": 1,
   "metadata": {},
   "outputs": [],
   "source": [
    "import json\n",
    "import pandas as pd"
   ]
  },
  {
   "cell_type": "code",
   "execution_count": 2,
   "metadata": {},
   "outputs": [],
   "source": [
    "df = pd.DataFrame(columns=['Title','Action','Comedy','Horror'])"
   ]
  },
  {
   "cell_type": "code",
   "execution_count": 3,
   "metadata": {},
   "outputs": [],
   "source": [
    "with open(\"nouveau_dataset/total.txt\",encoding='utf-8') as f:\n",
    "    for line in f:\n",
    "        converted_line = line.encode('ascii').decode('unicode-escape')\n",
    "        converted_line = converted_line.split(',')\n",
    "        converted_line[0]= converted_line[0].replace('\"','')\n",
    "        new_row = {'Title':converted_line[0], 'Action':converted_line[2],'Comedy':converted_line[3].rstrip('\\n'),'Horror':converted_line[1]}\n",
    "        df = df.append(new_row, ignore_index=True)"
   ]
  },
  {
   "cell_type": "code",
   "execution_count": 4,
   "metadata": {},
   "outputs": [],
   "source": [
    "df.to_csv('dataset.csv', index=False)"
   ]
  },
  {
   "cell_type": "code",
   "execution_count": 8,
   "metadata": {},
   "outputs": [],
   "source": [
    "test1='[Rec] ²'\n",
    "test2='[Rec]_²'\n",
    "if test2 in test1:\n",
    "    print(\"this can work\")"
   ]
  },
  {
   "cell_type": "code",
   "execution_count": 9,
   "metadata": {},
   "outputs": [],
   "source": [
    "import os"
   ]
  },
  {
   "cell_type": "code",
   "execution_count": 10,
   "metadata": {},
   "outputs": [],
   "source": [
    "DATASET_FOLDER = \"nouveau_dataset\"\n",
    "ACTION_SUBFOLDER = os.path.join(DATASET_FOLDER, \"A\")\n",
    "COMEDY_SUBFOLDER = os.path.join(DATASET_FOLDER, \"C\")\n",
    "HORROR_SUBFOLDER = os.path.join(DATASET_FOLDER, \"H\")"
   ]
  },
  {
   "cell_type": "code",
   "execution_count": null,
   "metadata": {},
   "outputs": [],
   "source": [
    "def find_output(file_path,df):\n",
    "    file_path = file_path.split('/')\n",
    "    name = file_path[-1].replace('.png','')\n",
    "    name = name.replace('_',' ')\n",
    "def fill_x_and_y(folder, x_list, y_list):\n",
    "    for file in os.listdir(folder):\n",
    "        file_path = os.path.join(folder, file)\n",
    "        try: \n",
    "            image = Image.open(file_path)\n",
    "            image = image.resize((8,8))\n",
    "            im_arr = np.array(image).flatten()\n",
    "            x_list.append(im_arr)\n",
    "            y_list.append(label)\n",
    "        except:\n",
    "            continue\n",
    "        \n",
    "def import_dataset():\n",
    "    action = []\n",
    "    comedy = []\n",
    "    horror = []\n",
    "    y = []\n",
    "    fill_x_and_y(ACTION_SUBFOLDER,action,y)\n",
    "    \n",
    "    return (np.array(X_train) / 255.0, np.array(Y_train)), (np.array(X_test)/255.0, np.array(Y_test))"
   ]
  }
 ],
 "metadata": {
  "kernelspec": {
   "display_name": "Python 3",
   "language": "python",
   "name": "python3"
  },
  "language_info": {
   "codemirror_mode": {
    "name": "ipython",
    "version": 3
   },
   "file_extension": ".py",
   "mimetype": "text/x-python",
   "name": "python",
   "nbconvert_exporter": "python",
   "pygments_lexer": "ipython3",
   "version": "3.7.6"
  }
 },
 "nbformat": 4,
 "nbformat_minor": 4
}
