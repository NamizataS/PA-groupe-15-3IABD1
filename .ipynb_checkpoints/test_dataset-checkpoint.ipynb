{
 "cells": [
  {
   "cell_type": "code",
   "execution_count": 1,
   "metadata": {},
   "outputs": [],
   "source": [
    "import os\n",
    "import numpy as np\n",
    "from PIL import Image\n",
    "import platform\n",
    "from ctypes import *\n",
    "import matplotlib.pyplot as plt"
   ]
  },
  {
   "cell_type": "code",
   "execution_count": 2,
   "metadata": {},
   "outputs": [],
   "source": [
    "DATASET_FOLDER = \"dataset\"\n",
    "TRAIN_SUBFOLDER = os.path.join(DATASET_FOLDER, \"train\")\n",
    "TEST_SUBFOLDER = os.path.join(DATASET_FOLDER, \"test\")\n",
    "\n",
    "TRAIN_ACTION_FOLDER= os.path.join(TRAIN_SUBFOLDER, \"action\")\n",
    "TRAIN_COMEDY_FOLDER= os.path.join(TRAIN_SUBFOLDER, \"comedie\")\n",
    "\n",
    "TEST_ACTION_FOLDER = os.path.join(TEST_SUBFOLDER, \"action\")\n",
    "TEST_COMEDY_FOLDER= os.path.join(TEST_SUBFOLDER, \"comedie\")"
   ]
  },
  {
   "cell_type": "code",
   "execution_count": 6,
   "metadata": {},
   "outputs": [],
   "source": [
    "def fill_x_and_y(folder, x_list, y_list, label):\n",
    "    for file in os.listdir(folder):\n",
    "        file_path = os.path.join(folder, file)\n",
    "        try: \n",
    "            image = Image.open(file_path)\n",
    "            image = image.resize((8,8))\n",
    "            im_arr = np.array(image).flatten()\n",
    "            x_list.append(im_arr)\n",
    "            y_list.append(label)\n",
    "        except:\n",
    "            continue\n",
    "        \n",
    "def import_dataset():\n",
    "    X_train = []\n",
    "    Y_train = []\n",
    "    X_test = []\n",
    "    Y_test = []\n",
    "    fill_x_and_y(TRAIN_ACTION_FOLDER, X_train, Y_train, 1.0)\n",
    "    fill_x_and_y(TRAIN_COMEDY_FOLDER, X_train, Y_train, -1.0)\n",
    "    fill_x_and_y(TEST_ACTION_FOLDER, X_test, Y_test, 1.0)\n",
    "    fill_x_and_y(TEST_COMEDY_FOLDER, X_test, Y_test, -1.0)\n",
    "    \n",
    "    return (np.array(X_train) / 255.0, np.array(Y_train)), (np.array(X_test)/255.0, np.array(Y_test))"
   ]
  },
  {
   "cell_type": "code",
   "execution_count": 7,
   "metadata": {},
   "outputs": [],
   "source": [
    "(X_train, Y_train), (X_test, Y_test) = import_dataset()"
   ]
  },
  {
   "cell_type": "code",
   "execution_count": 10,
   "metadata": {},
   "outputs": [],
   "source": [
    "path_to_shared_library = \"target/debug/librust_lib.dylib\"\n",
    "path_to_shared_library_windows = \"target\\\\debug\\\\rust_lib.dll\"\n",
    "\n",
    "if(platform.system()=='Windows'):\n",
    "    my_lib = cdll.LoadLibrary(path_to_shared_library_windows)\n",
    "else : \n",
    "    my_lib = cdll.LoadLibrary(path_to_shared_library)"
   ]
  },
  {
   "cell_type": "markdown",
   "metadata": {},
   "source": [
    "### Linear model"
   ]
  },
  {
   "cell_type": "code",
   "execution_count": 11,
   "metadata": {},
   "outputs": [],
   "source": [
    "my_lib.create_model.argtypes = [c_int]\n",
    "my_lib.create_model.restype = POINTER(c_float)\n",
    "\n",
    "arr_size = 2\n",
    "model = my_lib.create_model(arr_size)\n",
    "\n",
    "arr_size += 1\n",
    "\n",
    "flattened_dataset_inputs = []\n",
    "for p in X_train:\n",
    "    flattened_dataset_inputs.append(p[0])\n",
    "    flattened_dataset_inputs.append(p[1])\n",
    "\n",
    "flattened_inputs_len = len(flattened_dataset_inputs)\n",
    "flattened_outputs_len = len(Y_train)\n",
    "\n",
    "inputs_type = c_float * flattened_inputs_len\n",
    "outputs_type = c_float * flattened_outputs_len\n",
    "\n",
    "arr_type = type(model)\n",
    "\n",
    "my_lib.train_rosenblatt_linear_model.argtypes = [arr_type, inputs_type, outputs_type, c_int, c_float, c_int, c_int,c_int]\n",
    "my_lib.train_rosenblatt_linear_model.restype = None\n",
    "\n",
    "inputs_native = inputs_type(*flattened_dataset_inputs)\n",
    "outputs_native = outputs_type(*Y_train)\n",
    "my_lib.train_rosenblatt_linear_model(model, inputs_native, outputs_native, 10000, 0.001, arr_size, flattened_inputs_len,flattened_outputs_len)"
   ]
  },
  {
   "cell_type": "code",
   "execution_count": 12,
   "metadata": {},
   "outputs": [],
   "source": [
    "for p in X_test:\n",
    "    p_type = c_float * len(p)\n",
    "    break\n",
    "my_lib.predict_linear_model_classification.argtypes = [arr_type, p_type, c_int,c_int]\n",
    "my_lib.predict_linear_model_classification.restype = c_float\n",
    "\n",
    "predicted_outputs = [my_lib.predict_linear_model_classification(model, p_type(*p),arr_size,len(p)) for p in X_test]"
   ]
  },
  {
   "cell_type": "code",
   "execution_count": 13,
   "metadata": {},
   "outputs": [
    {
     "name": "stdout",
     "output_type": "stream",
     "text": [
      "[1.0, 1.0, -1.0, -1.0, -1.0, -1.0, -1.0, -1.0, -1.0, 1.0, -1.0, -1.0, -1.0, -1.0, -1.0, -1.0]\n"
     ]
    }
   ],
   "source": [
    "print(predicted_outputs)"
   ]
  },
  {
   "cell_type": "code",
   "execution_count": 9,
   "metadata": {},
   "outputs": [],
   "source": [
    "my_lib.destroy_array.argtypes = [POINTER(c_float), c_int]\n",
    "my_lib.destroy_array.restype = None\n",
    "my_lib.destroy_array(model, arr_size)"
   ]
  },
  {
   "cell_type": "markdown",
   "metadata": {},
   "source": [
    "### MLP"
   ]
  },
  {
   "cell_type": "code",
   "execution_count": 10,
   "metadata": {},
   "outputs": [],
   "source": [
    "d = [2, 2, 1]\n",
    "arr_size = len(d)\n",
    "arr_type = c_int * arr_size\n",
    "native_arr = arr_type(*d)\n",
    "my_lib.create_mlp_model.argtypes = [arr_type, c_int]\n",
    "my_lib.create_mlp_model.restype = c_void_p\n",
    "\n",
    "model = my_lib.create_mlp_model(native_arr,arr_size)\n",
    "\n",
    "flattened_dataset_inputs = []\n",
    "for p in X_train:\n",
    "    flattened_dataset_inputs.append(p[0])\n",
    "    flattened_dataset_inputs.append(p[1])\n",
    "\n",
    "flattened_inputs_len = len(flattened_dataset_inputs)\n",
    "flattened_outputs_len = len(Y_train)\n",
    "\n",
    "inputs_type = c_float * flattened_inputs_len\n",
    "outputs_type = c_float * flattened_outputs_len\n",
    "\n",
    "my_lib.train_classification_stochastic_backdrop_mlp_model.argtypes = [c_void_p,inputs_type,outputs_type,c_float,c_int,c_int,c_int]\n",
    "my_lib.train_classification_stochastic_backdrop_mlp_model.restype = None\n",
    "inputs_native = inputs_type(*flattened_dataset_inputs)\n",
    "outputs_native = outputs_type(*Y_train)\n",
    "\n",
    "my_lib.train_classification_stochastic_backdrop_mlp_model(model,inputs_native,outputs_native,0.001,100000,flattened_inputs_len,flattened_outputs_len)"
   ]
  },
  {
   "cell_type": "code",
   "execution_count": 11,
   "metadata": {},
   "outputs": [],
   "source": [
    "for p in X_test:\n",
    "    p_type = c_float * len(p)\n",
    "    break\n",
    "my_lib.predict_mlp_model_classification.argtypes = [c_void_p, p_type,c_int]\n",
    "my_lib.predict_mlp_model_classification.restype = POINTER(c_float)\n",
    "\n",
    "predicted_outputs = [my_lib.predict_mlp_model_classification(model, p_type(*p),len(p))[0] for p in X_test]"
   ]
  },
  {
   "cell_type": "code",
   "execution_count": 12,
   "metadata": {},
   "outputs": [
    {
     "name": "stdout",
     "output_type": "stream",
     "text": [
      "[-0.22967755794525146, -0.31092068552970886, 0.06649662554264069, -0.43935221433639526, 0.3381742835044861, -0.3949599862098694, -0.26803603768348694, 0.6363046169281006, -0.33277884125709534, -0.29869773983955383, -0.36480680108070374, -0.5345771312713623, -0.45991238951683044, -0.26964157819747925, -0.3902912735939026]\n"
     ]
    }
   ],
   "source": [
    "print(predicted_outputs)"
   ]
  },
  {
   "cell_type": "code",
   "execution_count": 13,
   "metadata": {},
   "outputs": [],
   "source": [
    "my_lib.destroy_model.argtypes = [c_void_p]\n",
    "my_lib.destroy_model.restype = None\n",
    "my_lib.destroy_model(model)"
   ]
  },
  {
   "cell_type": "code",
   "execution_count": null,
   "metadata": {},
   "outputs": [],
   "source": []
  }
 ],
 "metadata": {
  "kernelspec": {
   "display_name": "Python 3",
   "language": "python",
   "name": "python3"
  },
  "language_info": {
   "codemirror_mode": {
    "name": "ipython",
    "version": 3
   },
   "file_extension": ".py",
   "mimetype": "text/x-python",
   "name": "python",
   "nbconvert_exporter": "python",
   "pygments_lexer": "ipython3",
   "version": "3.7.6"
  }
 },
 "nbformat": 4,
 "nbformat_minor": 4
}
