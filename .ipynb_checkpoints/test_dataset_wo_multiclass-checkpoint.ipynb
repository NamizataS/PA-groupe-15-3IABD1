{
 "cells": [
  {
   "cell_type": "markdown",
   "metadata": {},
   "source": [
    "## Declarations"
   ]
  },
  {
   "cell_type": "code",
   "execution_count": 1,
   "metadata": {},
   "outputs": [],
   "source": [
    "import os\n",
    "import json\n",
    "import random\n",
    "import numpy as np\n",
    "from PIL import Image\n",
    "import platform\n",
    "import json\n",
    "from ctypes import *\n",
    "import matplotlib.pyplot as plt"
   ]
  },
  {
   "cell_type": "code",
   "execution_count": 2,
   "metadata": {},
   "outputs": [],
   "source": [
    "DATASET_FOLDER = \"nouveau_dataset\"\n",
    "ACTION_SUBFOLDER = os.path.join(DATASET_FOLDER, \"A\")\n",
    "COMEDY_SUBFOLDER = os.path.join(DATASET_FOLDER, \"C\")\n",
    "HORROR_SUBFOLDER = os.path.join(DATASET_FOLDER, \"H\")"
   ]
  },
  {
   "cell_type": "code",
   "execution_count": 11,
   "metadata": {},
   "outputs": [],
   "source": [
    "def fill_x_and_y(folder, dataset, label):\n",
    "    for file in os.listdir(folder):\n",
    "        file_path = os.path.join(folder, file)\n",
    "        try: \n",
    "            image = Image.open(file_path)\n",
    "            image = image.resize((128,128))\n",
    "            im_arr = np.array(image).flatten()\n",
    "            dataset.append({'image':im_arr, 'genre':label})\n",
    "        except:\n",
    "            continue\n",
    "            \n",
    "def import_dataset(folder, label):\n",
    "    dataset = []\n",
    "    fill_x_and_y(folder, dataset,label)\n",
    "    #fill_x_and_y('nouveau_dataset/Comedy.txt', COMEDY_SUBFOLDER, dataset)\n",
    "    #fill_x_and_y('nouveau_dataset/Horreur.txt', HORROR_SUBFOLDER, dataset)\n",
    "    return dataset\n",
    "\n",
    "def sort_movies(n,length):\n",
    "    res =[]\n",
    "    if(n<=0):\n",
    "        return res\n",
    "    if(n>length):\n",
    "        n=length\n",
    "    \n",
    "    while(True):\n",
    "        s = random.randrange(n)\n",
    "        if s not in res:\n",
    "            res.append(s)\n",
    "        if len(res)==n:\n",
    "            return res\n",
    "        \n",
    "def get_train_dataset(dataset,n):\n",
    "    train_dataset = []\n",
    "    index = sort_movies(n,len(dataset))\n",
    "    for i in index:\n",
    "        train_dataset.append(dataset[i])\n",
    "    return train_dataset,index\n",
    "\n",
    "def get_test_dataset(index, dataset):\n",
    "    test_dataset=[]\n",
    "    for i in range(0,len(dataset)):\n",
    "        if i not in index:\n",
    "            test_dataset.append(dataset[i])\n",
    "    return test_dataset\n",
    "\n",
    "def toList(arr):\n",
    "    return [j for i in arr for j in i]\n",
    "\n",
    "def accuracy(predicted_outputs, y_test):\n",
    "    sum_rslt = 0\n",
    "    for i in range(0,len(y_test)):\n",
    "        if predicted_outputs[i] == y_test[i]:\n",
    "            sum_rslt += 1\n",
    "    return sum_rslt / len(y_test)"
   ]
  },
  {
   "cell_type": "code",
   "execution_count": 4,
   "metadata": {},
   "outputs": [],
   "source": [
    "path_to_shared_library = \"target/release/librust_lib.dylib\"\n",
    "path_to_shared_library_windows = \"target\\\\debug\\\\rust_lib.dll\"\n",
    "\n",
    "if(platform.system()=='Windows'):\n",
    "    my_lib = cdll.LoadLibrary(path_to_shared_library_windows)\n",
    "else : \n",
    "    my_lib = cdll.LoadLibrary(path_to_shared_library)"
   ]
  },
  {
   "cell_type": "code",
   "execution_count": 5,
   "metadata": {},
   "outputs": [],
   "source": [
    "dataset_action = import_dataset(ACTION_SUBFOLDER,[1,-1,-1])\n",
    "dataset_comedy = import_dataset(COMEDY_SUBFOLDER,[-1,1,-1])\n",
    "dataset_horror = import_dataset(HORROR_SUBFOLDER,[-1,-1,1])\n",
    "\n",
    "train_dataset_action, index_action = get_train_dataset(dataset_action,293)\n",
    "test_dataset_action = get_test_dataset(index_action, dataset_action)\n",
    "\n",
    "train_dataset_comedy, index_comedy = get_train_dataset(dataset_comedy,380)\n",
    "test_dataset_comedy = get_test_dataset(index_comedy, dataset_comedy)\n",
    "\n",
    "train_dataset_horror, index_horror = get_train_dataset(dataset_horror,439)\n",
    "test_dataset_horror = get_test_dataset(index_horror, dataset_horror)\n",
    "\n",
    "train_dataset = train_dataset_action + train_dataset_comedy + train_dataset_horror\n",
    "test_dataset = test_dataset_action + test_dataset_comedy + test_dataset_horror"
   ]
  },
  {
   "cell_type": "markdown",
   "metadata": {},
   "source": [
    "## MLP Model"
   ]
  },
  {
   "cell_type": "code",
   "execution_count": 6,
   "metadata": {},
   "outputs": [
    {
     "name": "stdout",
     "output_type": "stream",
     "text": [
      "457\n"
     ]
    }
   ],
   "source": [
    "x_train = []\n",
    "x_test = []\n",
    "y_train = []\n",
    "y_test = []\n",
    "\n",
    "for image in train_dataset:\n",
    "    x_train.append(image['image'].tolist())\n",
    "    y_train.append(image['genre'])\n",
    "for image in test_dataset:\n",
    "    x_test.append(image['image'].tolist())\n",
    "    y_test.append(image['genre'])\n",
    "print(len(x_test))"
   ]
  },
  {
   "cell_type": "code",
   "execution_count": 7,
   "metadata": {},
   "outputs": [],
   "source": [
    "sample_inputs_len= len(x_train[0])\n",
    "x_train = toList(x_train)\n",
    "y_train = toList(y_train)"
   ]
  },
  {
   "cell_type": "code",
   "execution_count": 12,
   "metadata": {},
   "outputs": [
    {
     "name": "stdout",
     "output_type": "stream",
     "text": [
      "So the accuracy is 0.24726477024070023\n"
     ]
    }
   ],
   "source": [
    "d = [sample_inputs_len,3]\n",
    "arr_size = len(d)\n",
    "arr_type = c_int * arr_size\n",
    "native_arr = arr_type(*d)\n",
    "\n",
    "#create model\n",
    "my_lib.create_mlp_model.argtypes = [arr_type, c_int]\n",
    "my_lib.create_mlp_model.restype = c_void_p\n",
    "model = my_lib.create_mlp_model(native_arr,arr_size)\n",
    "\n",
    "#train model\n",
    "x_len = len(x_train)\n",
    "y_len = len(y_train)\n",
    "\n",
    "inputs_type = c_float * x_len\n",
    "outputs_type = c_float * y_len\n",
    "\n",
    "my_lib.train_classification_stochastic_backdrop_mlp_model.argtypes = [c_void_p, inputs_type, outputs_type, c_float, c_int, c_int, c_int]\n",
    "my_lib.train_classification_stochastic_backdrop_mlp_model.restype = None\n",
    "my_lib.train_classification_stochastic_backdrop_mlp_model(model, inputs_type(*x_train), outputs_type(*y_train), 0.001, 100000, x_len, y_len)\n",
    "\n",
    "#predict for the test dataset\n",
    "sample_inputs_type = c_float * sample_inputs_len\n",
    "my_lib.predict_mlp_model_classification.argtypes = [c_void_p, sample_inputs_type, c_int]\n",
    "my_lib.predict_mlp_model_classification.restype = POINTER(c_float)\n",
    "predicted_outputs = []\n",
    "for p in x_test:\n",
    "    prediction = my_lib.predict_mlp_model_classification(model, sample_inputs_type(*p), sample_inputs_len)\n",
    "    prediction = np.ctypeslib.as_array(prediction,(3,))\n",
    "    predicted_outputs.append(prediction.tolist())\n",
    "\n",
    "accuracy_model = accuracy(predicted_outputs, y_test)\n",
    "print(f\"So the accuracy is {accuracy_model}\")\n",
    "#print(f\"So the predicted outputs are {predicted_outputs}\")\n",
    "#print(f\"And the actual outputs are {y_test} and the len is {len(y_test)}\")\n",
    "\n",
    "#save model\n",
    "my_lib.save_mlp_model.argtypes = [c_void_p, c_char_p]\n",
    "my_lib.save_mlp_model.restype = None\n",
    "my_lib.save_mlp_model(model,\"dataset_mlp_no_multiclass.json\".encode(\"utf-8\"))\n",
    "\n",
    "#destroy\n",
    "my_lib.destroy_model.argtypes = [c_void_p]\n",
    "my_lib.destroy_model.restype = None\n",
    "my_lib.destroy_model(model)"
   ]
  },
  {
   "cell_type": "markdown",
   "metadata": {},
   "source": [
    "## RBF"
   ]
  },
  {
   "cell_type": "code",
   "execution_count": null,
   "metadata": {},
   "outputs": [],
   "source": [
    "dataset_action = import_dataset(ACTION_SUBFOLDER,[1,-1,-1])\n",
    "dataset_comedy = import_dataset(COMEDY_SUBFOLDER,[-1,1,-1])\n",
    "dataset_horror = import_dataset(HORROR_SUBFOLDER,[-1,-1,1])\n",
    "\n",
    "train_dataset_action, index_action = get_train_dataset(dataset_action,293)\n",
    "test_dataset_action = get_test_dataset(index_action, dataset_action)\n",
    "\n",
    "train_dataset_comedy, index_comedy = get_train_dataset(dataset_comedy,380)\n",
    "test_dataset_comedy = get_test_dataset(index_comedy, dataset_comedy)\n",
    "\n",
    "train_dataset_horror, index_horror = get_train_dataset(dataset_horror,439)\n",
    "test_dataset_horror = get_test_dataset(index_horror, dataset_horror)"
   ]
  },
  {
   "cell_type": "code",
   "execution_count": null,
   "metadata": {},
   "outputs": [],
   "source": [
    "x_train = []\n",
    "x_test = []\n",
    "y_train = []\n",
    "y_test = []\n",
    "\n",
    "for image in train_dataset:\n",
    "    x_train.append(image['image'].tolist())\n",
    "    y_train.append(image['genre'])\n",
    "for image in test_dataset:\n",
    "    x_test.append(image['image'].tolist())\n",
    "    y_test.append(image['genre'])\n",
    "print(len(x_test))"
   ]
  },
  {
   "cell_type": "code",
   "execution_count": null,
   "metadata": {},
   "outputs": [],
   "source": [
    "sample_inputs_len= len(x_train[0])\n",
    "x_train = toList(x_train)\n",
    "y_train_action = y_train[:,0]\n",
    "y_train_comedy = y_train[:,1]\n",
    "y_train_horror = y_train[:,2]"
   ]
  },
  {
   "cell_type": "code",
   "execution_count": null,
   "metadata": {},
   "outputs": [],
   "source": [
    "inputs_len = len(x_train)\n",
    "outputs_len = len(y_train_action)\n",
    "output_dim = 1\n",
    "\n",
    "inputs_type = c_float * inputs_len\n",
    "inputs_native = inputs_type(*x_train)\n",
    "outputs_type = c_float * outputs_len\n",
    "sample_inputs_type = c_float * sample_inputs_len\n",
    "\n",
    "#create model\n",
    "my_lib.create_rbf_model.argtypes = [c_int, inputs_type, c_int, c_int]\n",
    "my_lib.create_rbf_model.restype = c_void_p\n",
    "\n",
    "model_action = my_lib.create_rbf_model(2, inputs_native, inputs_len, sample_inputs_len)\n",
    "model_comedy = my_lib.create_rbf_model(2, inputs_native, inputs_len, sample_inputs_len)\n",
    "model_horror = my_lib.create_rbf_model(2, inputs_native, inputs_len, sample_inputs_len)\n",
    "\n",
    "#train the models\n",
    "#training\n",
    "my_lib.lloyd.argtypes = [c_void_p, inputs_type, c_int, c_int]\n",
    "my_lib.lloyd.restype = None\n",
    "my_lib.lloyd(model_action, inputs_native, inputs_len, 100)\n",
    "my_lib.lloyd(model_comedy, inputs_native, inputs_len, 100)\n",
    "my_lib.lloyd(model_horror, inputs_native, inputs_len, 100)\n",
    "\n",
    "my_lib.train_rbf_model_classification.argtypes = [c_void_p, inputs_type, outputs_type, c_int, c_int, c_int, c_float]\n",
    "my_lib.train_rbf_model_classification.restype = None\n",
    "\n",
    "my_lib.train_rbf_model_classification(model_action, inputs_native, outputs_type(*y_train_action), inputs_len, outputs_len, 100000, 0.0001)\n",
    "my_lib.train_rbf_model_classification(model_comedy, inputs_native, outputs_type(*y_train_comedy), inputs_len, outputs_len, 100000, 0.0001)\n",
    "my_lib.train_rbf_model_classification(model_horror, inputs_native, outputs_type(*y_train_horror), inputs_len, outputs_len, 100000, 0.0001)\n",
    "\n",
    "#predict\n",
    "my_lib.predict_rbf_model_classification.argtypes = [c_void_p, sample_inputs_type]\n",
    "my_lib.predict_rbf_model_classification.restype = c_float\n",
    "predicted_outputs = [[my_lib.predict_rbf_model_classification(model_action, sample_inputs_type(*p)),my_lib.predict_rbf_model_classification(model_comedy, sample_inputs_type(*p)), my_lib.predict_rbf_model_classification(model_horror, sample_inputs_type(*p))] for p in x_test]\n",
    "\n",
    "accuracy_model = accuracy(predicted_outputs, y_test)\n",
    "print(f\"So the accuracy is {accuracy_model}\")\n",
    "\n",
    "#destroy model\n",
    "my_lib.destroy_rbf_model.argtypes = [c_void_p]\n",
    "my_lib.destroy_rbf_model.restype = None\n",
    "my_lib.destroy_rbf_model(model_action)\n",
    "my_lib.destroy_rbf_model(model_comedy)\n",
    "my_lib.destroy_rbf_model(model_horror)"
   ]
  }
 ],
 "metadata": {
  "kernelspec": {
   "display_name": "Python 3",
   "language": "python",
   "name": "python3"
  },
  "language_info": {
   "codemirror_mode": {
    "name": "ipython",
    "version": 3
   },
   "file_extension": ".py",
   "mimetype": "text/x-python",
   "name": "python",
   "nbconvert_exporter": "python",
   "pygments_lexer": "ipython3",
   "version": "3.7.6"
  }
 },
 "nbformat": 4,
 "nbformat_minor": 4
}
