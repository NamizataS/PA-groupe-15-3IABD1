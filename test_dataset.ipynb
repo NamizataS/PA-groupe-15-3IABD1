{
 "cells": [
  {
   "cell_type": "code",
   "execution_count": 1,
   "metadata": {},
   "outputs": [],
   "source": [
    "import os\n",
    "import numpy as np\n",
    "from PIL import Image\n",
    "import platform\n",
    "from ctypes import *\n",
    "import matplotlib.pyplot as plt"
   ]
  },
  {
   "cell_type": "code",
   "execution_count": 2,
   "metadata": {},
   "outputs": [],
   "source": [
    "DATASET_FOLDER = \"dataset\"\n",
    "TRAIN_SUBFOLDER = os.path.join(DATASET_FOLDER, \"train\")\n",
    "TEST_SUBFOLDER = os.path.join(DATASET_FOLDER, \"test\")\n",
    "\n",
    "TRAIN_ACTION_FOLDER= os.path.join(TRAIN_SUBFOLDER, \"action\")\n",
    "TRAIN_COMEDY_FOLDER= os.path.join(TRAIN_SUBFOLDER, \"comedie\")\n",
    "\n",
    "TEST_ACTION_FOLDER = os.path.join(TEST_SUBFOLDER, \"action\")\n",
    "TEST_COMEDY_FOLDER= os.path.join(TEST_SUBFOLDER, \"comedie\")"
   ]
  },
  {
   "cell_type": "code",
   "execution_count": 3,
   "metadata": {},
   "outputs": [],
   "source": [
    "def fill_x_and_y(folder, x_list, y_list, label):\n",
    "    for file in os.listdir(folder):\n",
    "        file_path = os.path.join(folder, file)\n",
    "        image = Image.open(file_path)\n",
    "        image = image.resize((8,8))\n",
    "        im_arr = np.array(image).flatten()\n",
    "        x_list.append(im_arr)\n",
    "        y_list.append(label)\n",
    "        \n",
    "def import_dataset():\n",
    "    X_train = []\n",
    "    Y_train = []\n",
    "    X_test = []\n",
    "    Y_test = []\n",
    "    fill_x_and_y(TRAIN_ACTION_FOLDER, X_train, Y_train, 1.0)\n",
    "    fill_x_and_y(TRAIN_COMEDY_FOLDER, X_train, Y_train, -1.0)\n",
    "    fill_x_and_y(TEST_ACTION_FOLDER, X_test, Y_test, 1.0)\n",
    "    fill_x_and_y(TEST_COMEDY_FOLDER, X_test, Y_test, -1.0)\n",
    "    \n",
    "    return (np.array(X_train) / 255.0, np.array(Y_train)), (np.array(X_test)/255.0, np.array(Y_test))"
   ]
  },
  {
   "cell_type": "code",
   "execution_count": 4,
   "metadata": {},
   "outputs": [],
   "source": [
    "(X_train, Y_train), (X_test, Y_test) = import_dataset()"
   ]
  },
  {
   "cell_type": "code",
   "execution_count": 5,
   "metadata": {},
   "outputs": [
    {
     "name": "stdout",
     "output_type": "stream",
     "text": [
      "192\n"
     ]
    }
   ],
   "source": [
    "print(len(X_train[0]))"
   ]
  },
  {
   "cell_type": "code",
   "execution_count": 6,
   "metadata": {},
   "outputs": [],
   "source": [
    "path_to_shared_library = \"target/debug/librust_lib.dylib\"\n",
    "path_to_shared_library_windows = \"target\\\\debug\\\\rust_lib.dll\"\n",
    "\n",
    "if(platform.system()=='Windows'):\n",
    "    my_lib = cdll.LoadLibrary(path_to_shared_library_windows)\n",
    "else : \n",
    "    my_lib = cdll.LoadLibrary(path_to_shared_library)"
   ]
  },
  {
   "cell_type": "code",
   "execution_count": 25,
   "metadata": {},
   "outputs": [],
   "source": [
    "d = [2, 2, 1]\n",
    "arr_size = len(d)\n",
    "arr_type = c_int * arr_size\n",
    "native_arr = arr_type(*d)\n",
    "my_lib.create_mlp_model.argtypes = [arr_type, c_int]\n",
    "my_lib.create_mlp_model.restype = c_void_p\n",
    "\n",
    "model = my_lib.create_mlp_model(native_arr,arr_size)\n",
    "\n",
    "flattened_dataset_inputs = []\n",
    "for p in X_train:\n",
    "    flattened_dataset_inputs.append(p[0])\n",
    "    flattened_dataset_inputs.append(p[1])\n",
    "\n",
    "flattened_inputs_len = len(flattened_dataset_inputs)\n",
    "flattened_outputs_len = len(Y_train)\n",
    "\n",
    "inputs_type = c_float * flattened_inputs_len\n",
    "outputs_type = c_float * flattened_outputs_len\n",
    "\n",
    "my_lib.train_classification_stochastic_backdrop_mlp_model.argtypes = [c_void_p,inputs_type,outputs_type,c_float,c_int,c_int,c_int]\n",
    "my_lib.train_classification_stochastic_backdrop_mlp_model.restype = None\n",
    "inputs_native = inputs_type(*flattened_dataset_inputs)\n",
    "outputs_native = outputs_type(*Y_train)\n",
    "\n",
    "my_lib.train_classification_stochastic_backdrop_mlp_model(model,inputs_native,outputs_native,0.001,100000,flattened_inputs_len,flattened_outputs_len)"
   ]
  },
  {
   "cell_type": "code",
   "execution_count": 26,
   "metadata": {},
   "outputs": [],
   "source": [
    "for p in X_test:\n",
    "    p_type = c_float * len(p)\n",
    "    break\n",
    "my_lib.predict_mlp_model_classification.argtypes = [c_void_p, p_type,c_int]\n",
    "my_lib.predict_mlp_model_classification.restype = POINTER(c_float)\n",
    "\n",
    "predicted_outputs = [my_lib.predict_mlp_model_classification(model, p_type(*p),len(p))[0] for p in X_test]"
   ]
  },
  {
   "cell_type": "code",
   "execution_count": 27,
   "metadata": {},
   "outputs": [
    {
     "name": "stdout",
     "output_type": "stream",
     "text": [
      "[0.0211044792085886, -0.12861762940883636, 0.036703646183013916, -0.5986766815185547, 0.4199751317501068, -0.5620144605636597, -0.0007690189522691071, 0.740168571472168, -0.22503869235515594, -0.07689607888460159, -0.3779132664203644, -0.7481273412704468, -0.5963156223297119, -0.34989261627197266, -0.3602322041988373]\n"
     ]
    }
   ],
   "source": [
    "print(predicted_outputs)"
   ]
  },
  {
   "cell_type": "code",
   "execution_count": 11,
   "metadata": {},
   "outputs": [],
   "source": [
    "my_lib.destroy_model.argtypes = [c_void_p]\n",
    "my_lib.destroy_model.restype = None\n",
    "my_lib.destroy_model(model)"
   ]
  },
  {
   "cell_type": "code",
   "execution_count": null,
   "metadata": {},
   "outputs": [],
   "source": []
  }
 ],
 "metadata": {
  "kernelspec": {
   "display_name": "Python 3",
   "language": "python",
   "name": "python3"
  },
  "language_info": {
   "codemirror_mode": {
    "name": "ipython",
    "version": 3
   },
   "file_extension": ".py",
   "mimetype": "text/x-python",
   "name": "python",
   "nbconvert_exporter": "python",
   "pygments_lexer": "ipython3",
   "version": "3.7.6"
  }
 },
 "nbformat": 4,
 "nbformat_minor": 4
}
